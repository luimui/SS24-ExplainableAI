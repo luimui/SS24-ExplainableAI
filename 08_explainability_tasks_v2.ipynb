{
 "cells": [
  {
   "attachments": {},
   "cell_type": "markdown",
   "metadata": {},
   "source": [
    "# Exercise 08"
   ]
  },
  {
   "attachments": {},
   "cell_type": "markdown",
   "metadata": {},
   "source": [
    "## Gradient-based attribution methods for deep neural networks"
   ]
  },
  {
   "attachments": {},
   "cell_type": "markdown",
   "metadata": {},
   "source": [
    "### Vanilla Gradient (Saliency map)"
   ]
  },
  {
   "attachments": {},
   "cell_type": "markdown",
   "metadata": {},
   "source": [
    "Use the following code as a basis to calculate a vanilla saliency map.\n",
    "\n",
    "Hints:\n",
    "\n",
    "- you can set the class outputs for other classes to zero by using specifying `gradient` in `backward(gradient=)`, or by applying `torch.max` to the predictions if you want to explain the predicted class"
   ]
  },
  {
   "cell_type": "code",
   "execution_count": null,
   "metadata": {},
   "outputs": [],
   "source": [
    "import torch\n",
    "import torchvision\n",
    "import torchvision.transforms as transforms\n",
    "\n",
    "import numpy as np\n",
    "import matplotlib.pyplot as plt\n",
    "from PIL import Image\n"
   ]
  },
  {
   "cell_type": "code",
   "execution_count": null,
   "metadata": {},
   "outputs": [],
   "source": [
    "#load pretrained resnet model\n",
    "model = torchvision.models.resnet50(pretrained=True)\n",
    "print(model)\n",
    "\n",
    "#define transforms to preprocess input image into format expected by model\n",
    "normalize = transforms.Normalize(\n",
    "    mean=[0.485, 0.456, 0.406],\n",
    "    std=[0.229, 0.224, 0.225])\n",
    "\n",
    "#inverse transform to get normalize image back to original form for visualization\n",
    "inv_normalize = transforms.Normalize(\n",
    "    mean=[-0.485/0.229, -0.456/0.224, -0.406/0.255],\n",
    "    std=[1/0.229, 1/0.224, 1/0.255]\n",
    ")\n",
    "\n",
    "#transforms to resize image to the size expected by pretrained model,\n",
    "#convert PIL image to tensor, and\n",
    "#normalize the image\n",
    "transform = transforms.Compose([\n",
    "    transforms.Resize((224, 224)),\n",
    "    transforms.ToTensor(),\n",
    "    normalize,          \n",
    "]);"
   ]
  },
  {
   "cell_type": "code",
   "execution_count": null,
   "metadata": {},
   "outputs": [],
   "source": [
    "def saliency(input, model):\n",
    "    \n",
    "    #we don't need gradients w.r.t. weights for a trained model\n",
    "    for param in model.parameters():\n",
    "        param.requires_grad = False\n",
    "    \n",
    "    #set model in eval mode\n",
    "    model.eval()\n",
    "\n",
    "    #we want to calculate gradient of highest score w.r.t. input\n",
    "    #so set requires_grad to True for input \n",
    "    input.requires_grad = True\n",
    "    # TODO\n",
    "\n",
    "    return saliency_map.numpy()"
   ]
  },
  {
   "cell_type": "code",
   "execution_count": null,
   "metadata": {},
   "outputs": [],
   "source": [
    "def plot(input_img, saliencey_map):  \n",
    "    #plot image and its saleincy map\n",
    "    plt.figure(figsize=(10, 10))\n",
    "    plt.subplot(1, 2, 1)\n",
    "    plt.imshow(np.transpose(input_img, (1, 2, 0)))\n",
    "    plt.xticks([])\n",
    "    plt.yticks([])\n",
    "    plt.subplot(1, 2, 2)\n",
    "    plt.imshow(saliencey_map, cmap=plt.cm.hot)\n",
    "    plt.xticks([])\n",
    "    plt.yticks([])\n",
    "    plt.show()"
   ]
  },
  {
   "cell_type": "code",
   "execution_count": null,
   "metadata": {},
   "outputs": [],
   "source": [
    "img = Image.open('puppy.jpg').convert('RGB')\n",
    "\n",
    "# transform and normalize image and put it in a stack\n",
    "img_normalized = transform(img).unsqueeze(0)\n",
    "# unstack and unnormalize image\n",
    "img_normalized_inv = inv_normalize(img_normalized[0])\n",
    "\n",
    "# calculate saliency map\n",
    "saliencey_map = saliency(img_normalized, model)\n",
    "\n",
    "# plot image and saliency map\n",
    "plot(img_normalized_inv, saliencey_map)"
   ]
  },
  {
   "attachments": {},
   "cell_type": "markdown",
   "metadata": {},
   "source": [
    "### Smooth Grad"
   ]
  },
  {
   "attachments": {},
   "cell_type": "markdown",
   "metadata": {},
   "source": [
    "**Question**: Implement Smooth grad with at least 10 runs."
   ]
  },
  {
   "cell_type": "code",
   "execution_count": null,
   "metadata": {},
   "outputs": [],
   "source": [
    "#average saliency maps \n",
    "# (\n",
    "# hints: \n",
    "# 1.load puppy image \n",
    "# 2. add random noise to it \n",
    "# 3. calculate saliency map for each noisy image \n",
    "# 4. average saliency maps\n",
    "# )\n",
    "\n",
    "# TODO\n",
    "\n",
    "saliencey_map = None"
   ]
  },
  {
   "cell_type": "code",
   "execution_count": null,
   "metadata": {},
   "outputs": [],
   "source": [
    "# plot\n",
    "img = Image.open('puppy.jpg').convert('RGB')\n",
    "img_normalized = transform(img).unsqueeze(0)\n",
    "img_normalized_inv = inv_normalize(img_normalized[0])\n",
    "\n",
    "plot(img_normalized_inv, saliencey_map)"
   ]
  }
 ],
 "metadata": {
  "kernelspec": {
   "display_name": "xai",
   "language": "python",
   "name": "python3"
  },
  "language_info": {
   "codemirror_mode": {
    "name": "ipython",
    "version": 3
   },
   "file_extension": ".py",
   "mimetype": "text/x-python",
   "name": "python",
   "nbconvert_exporter": "python",
   "pygments_lexer": "ipython3",
   "version": "3.12.3"
  },
  "orig_nbformat": 4
 },
 "nbformat": 4,
 "nbformat_minor": 2
}
