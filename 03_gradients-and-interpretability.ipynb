{
  "cells": [
    {
      "cell_type": "markdown",
      "metadata": {
        "id": "AOt25Za_Nznd"
      },
      "source": [
        "# Exercise 03 - Gradient descent, linear regression, and interpretability\n",
        "\n",
        "After completing this notebook, you should be able to:\n",
        "* implement gradient descent\n",
        "* have an understanding how linear regression works\n",
        "* how weights of a linear regression model can be interpreted"
      ]
    },
    {
      "cell_type": "markdown",
      "metadata": {
        "id": "YUzHfMkDNzne"
      },
      "source": [
        "## Gradient Descent\n",
        "\n",
        "We will use the 'digits' dataset consisting of 8x8 images of handwritten digits."
      ]
    },
    {
      "cell_type": "code",
      "execution_count": 1,
      "metadata": {
        "id": "63jxe21aNzne",
        "outputId": "04f5efab-07dd-470c-9d95-49e4ba3c0bd8",
        "colab": {
          "base_uri": "https://localhost:8080/",
          "height": 447
        }
      },
      "outputs": [
        {
          "output_type": "execute_result",
          "data": {
            "text/plain": [
              "<matplotlib.collections.PathCollection at 0x786b041f73d0>"
            ]
          },
          "metadata": {},
          "execution_count": 1
        },
        {
          "output_type": "display_data",
          "data": {
            "text/plain": [
              "<Figure size 640x480 with 1 Axes>"
            ],
            "image/png": "[encoded data removed]"
          },
          "metadata": {}
        }
      ],
      "source": [
        "import numpy as np\n",
        "import matplotlib.pyplot as plt\n",
        "from sklearn import datasets\n",
        "\n",
        "# generate random dataset\n",
        "X, y = datasets.make_regression(n_features=1, noise=50, random_state=42)\n",
        "y = y + 500\n",
        "\n",
        "# plot data\n",
        "fig, ax = plt.subplots(1,1)\n",
        "ax.scatter(X, y)\n",
        "\n",
        "# TODO: notice the intercept!"
      ]
    },
    {
      "cell_type": "code",
      "execution_count": 4,
      "metadata": {
        "id": "AQ_NkRQINznf"
      },
      "outputs": [],
      "source": [
        "# TODO: complete the linear regression function\n",
        "def linear_regression(X, w=None, b=0):\n",
        "\n",
        "    if w is None:\n",
        "        w = np.zeros(X.shape[1])\n",
        "\n",
        "    # TODO: fill in formula for linear regression in matrix notation\n",
        "    y_pred = b + np.multiply(X, w) # TODO\n",
        "\n",
        "    return y_pred"
      ]
    },
    {
      "cell_type": "code",
      "source": [
        "np.multiply(3, np.array([1,2]))"
      ],
      "metadata": {
        "id": "9k3OOy9RPJkp",
        "outputId": "a006176f-0b0b-4f91-98b1-0ecefbddec25",
        "colab": {
          "base_uri": "https://localhost:8080/"
        }
      },
      "execution_count": 5,
      "outputs": [
        {
          "output_type": "execute_result",
          "data": {
            "text/plain": [
              "array([3, 6])"
            ]
          },
          "metadata": {},
          "execution_count": 5
        }
      ]
    },
    {
      "cell_type": "code",
      "execution_count": 10,
      "metadata": {
        "id": "-LkKo7jCNznf",
        "outputId": "12fe6256-800d-4a7f-bccf-a6c67a4c8663",
        "colab": {
          "base_uri": "https://localhost:8080/"
        }
      },
      "outputs": [
        {
          "output_type": "stream",
          "name": "stdout",
          "text": [
            "[[350.93128012]\n",
            " [350.08704707]\n",
            " [348.94228907]\n",
            " [350.31424733]\n",
            " [349.52082576]\n",
            " [350.64768854]\n",
            " [349.53658231]\n",
            " [350.54256004]\n",
            " [350.61167629]\n",
            " [351.0035329 ]\n",
            " [350.8219025 ]\n",
            " [351.53803657]\n",
            " [350.73846658]\n",
            " [349.78032811]\n",
            " [349.1915064 ]\n",
            " [350.09176078]\n",
            " [348.04032988]\n",
            " [350.51326743]\n",
            " [351.03099952]\n",
            " [347.3802549 ]\n",
            " [350.49671415]\n",
            " [350.09707755]\n",
            " [349.53427025]\n",
            " [350.91540212]\n",
            " [351.56464366]\n",
            " [351.46564877]\n",
            " [349.39936131]\n",
            " [349.96417396]\n",
            " [349.39829339]\n",
            " [348.80379338]\n",
            " [350.35711257]\n",
            " [350.37569802]\n",
            " [350.26105527]\n",
            " [349.4702398 ]\n",
            " [349.09197592]\n",
            " [350.19686124]\n",
            " [349.70099265]\n",
            " [350.36163603]\n",
            " [350.82254491]\n",
            " [349.70830625]\n",
            " [350.36139561]\n",
            " [349.323078  ]\n",
            " [351.52302986]\n",
            " [349.48172978]\n",
            " [349.76584663]\n",
            " [349.60789185]\n",
            " [349.6988963 ]\n",
            " [349.35488025]\n",
            " [350.32875111]\n",
            " [350.2088636 ]\n",
            " [349.67233785]\n",
            " [350.00511346]\n",
            " [349.76586304]\n",
            " [351.47789404]\n",
            " [349.61491772]\n",
            " [350.34361829]\n",
            " [350.33126343]\n",
            " [349.81434102]\n",
            " [349.76541287]\n",
            " [348.01243109]\n",
            " [350.32408397]\n",
            " [349.7742237 ]\n",
            " [348.89366503]\n",
            " [349.29794691]\n",
            " [348.53648505]\n",
            " [350.96864499]\n",
            " [348.27508217]\n",
            " [348.08671976]\n",
            " [349.43771247]\n",
            " [350.76743473]\n",
            " [350.81252582]\n",
            " [348.5876963 ]\n",
            " [348.52147801]\n",
            " [348.77915635]\n",
            " [349.16078248]\n",
            " [351.57921282]\n",
            " [350.97554513]\n",
            " [350.24196227]\n",
            " [350.29612028]\n",
            " [349.45561728]\n",
            " [348.23695984]\n",
            " [350.11092259]\n",
            " [350.17136828]\n",
            " [348.67181395]\n",
            " [351.05712223]\n",
            " [349.88435172]\n",
            " [349.53052561]\n",
            " [349.98650278]\n",
            " [348.98716888]\n",
            " [349.8617357 ]\n",
            " [348.84900642]\n",
            " [351.35624003]\n",
            " [350.0675282 ]\n",
            " [349.49824296]\n",
            " [349.53936123]\n",
            " [351.85227818]\n",
            " [348.57525181]\n",
            " [349.28015579]\n",
            " [349.92798988]\n",
            " [349.69078762]]\n"
          ]
        }
      ],
      "source": [
        "# calculating `y_pred` with weights `[0]` and bias `0`\n",
        "\n",
        "w = np.array([1])\n",
        "b = 350\n",
        "\n",
        "y_pred = linear_regression(X, w=w, b=b)\n",
        "print(y_pred)"
      ]
    },
    {
      "cell_type": "code",
      "execution_count": 11,
      "metadata": {
        "id": "qSdQUyPONzng",
        "outputId": "1ec8a048-2682-4992-ce75-c4a80286a422",
        "colab": {
          "base_uri": "https://localhost:8080/",
          "height": 447
        }
      },
      "outputs": [
        {
          "output_type": "execute_result",
          "data": {
            "text/plain": [
              "<matplotlib.collections.PathCollection at 0x786af6980d90>"
            ]
          },
          "metadata": {},
          "execution_count": 11
        },
        {
          "output_type": "display_data",
          "data": {
            "text/plain": [
              "<Figure size 640x480 with 1 Axes>"
            ],
            "image/png": "[encoded data removed]"
          },
          "metadata": {}
        }
      ],
      "source": [
        "fig, ax = plt.subplots(1,1)\n",
        "ax.scatter(X, y, label=\"data\")\n",
        "ax.scatter(X, y_pred, color=\"red\", label=\"prediction\")"
      ]
    },
    {
      "cell_type": "code",
      "execution_count": null,
      "metadata": {
        "id": "gC44eEKTNzng"
      },
      "outputs": [],
      "source": [
        "# TODO: implement a function to calculate the gradient for linear regression  (hint: use the matrix multiplication variant)\n",
        "def linear_regression_derivative(X, y, w, b):\n",
        "    gradient_w = ... # TODO\n",
        "    gradient_b = 0 # TODO\n",
        "    return gradient_w, gradient_b"
      ]
    },
    {
      "cell_type": "code",
      "execution_count": null,
      "metadata": {
        "id": "gckbaX4JNzng"
      },
      "outputs": [],
      "source": [
        "# TODO: fill in the weight update formula and play with the learning rate, what do you observe?\n",
        "\n",
        "# starting configuration\n",
        "w = np.array([0]); b = 0\n",
        "\n",
        "# learning rate\n",
        "learning_rate = 0.00001\n",
        "\n",
        "# number of epochs\n",
        "n_epochs = 1000\n",
        "\n",
        "# training loop\n",
        "for i_epoch in range(n_epochs):\n",
        "\n",
        "    # calculate gradients\n",
        "    gradient_w, gradient_b = linear_regression_derivative(X, y, w, b)\n",
        "\n",
        "    # update gradients\n",
        "    w = ... # TODO\n",
        "    b = ... # TODO\n",
        "\n",
        "    # plot current predictions\n",
        "    if i_epoch % 100 == 0:\n",
        "        fig, ax = plt.subplots(1,1)\n",
        "        ax.scatter(X, y)\n",
        "        y_pred = linear_regression(X, w=w, b=b)\n",
        "        ax.scatter(X, y_pred, c=\"green\")\n",
        "\n",
        "# plot final predictions\n",
        "fig, ax = plt.subplots(1,1)\n",
        "ax.scatter(X, y)\n",
        "y_pred = linear_regression(X, w=w, b=b)\n",
        "ax.scatter(X, y_pred, c=\"green\")"
      ]
    },
    {
      "cell_type": "code",
      "execution_count": null,
      "metadata": {
        "id": "cAaesy3hNzng"
      },
      "outputs": [],
      "source": [
        "# TODO: Bonus: plot the loss curve!"
      ]
    },
    {
      "cell_type": "markdown",
      "metadata": {
        "id": "nNolVPbqNzng"
      },
      "source": [
        "## Interpreting linear regression"
      ]
    },
    {
      "cell_type": "markdown",
      "metadata": {
        "id": "Z8sqXKtYNznh"
      },
      "source": [
        "We are working with the [titanic dataset](https://www.kaggle.com/competitions/titanic).\n",
        "\n",
        "The following code plots feature importances for a linear model predicting passenger survival.\n",
        "1) Try difference data splits. What do you observe for the feature importances?\n",
        "1) Try adding and removing individual features. What do you observe?\n",
        "1) Try scaling individual features and see how it affects the features. What do you observe?\n",
        "1) Are the features that are considered important according to a model the only possibly important features to make predictions?\n",
        "1) Sample feature importances using bootstrapping and plot them as boxplots. Which features are significant?"
      ]
    },
    {
      "cell_type": "code",
      "execution_count": null,
      "metadata": {
        "id": "3UUyTSnHNznh"
      },
      "outputs": [],
      "source": [
        "# imports\n",
        "import numpy as np\n",
        "import pandas as pd\n",
        "\n",
        "from sklearn.model_selection import train_test_split, cross_validate, StratifiedKFold, RepeatedStratifiedKFold\n",
        "\n",
        "from sklearn.pipeline import make_pipeline\n",
        "\n",
        "from sklearn.impute import SimpleImputer\n",
        "from sklearn.preprocessing import StandardScaler\n",
        "\n",
        "from sklearn.linear_model import LogisticRegression\n",
        "from sklearn.ensemble import RandomForestClassifier\n",
        "from sklearn.tree import DecisionTreeClassifier\n",
        "from sklearn.svm import LinearSVC\n",
        "\n",
        "import matplotlib.pyplot as plt\n",
        "import seaborn as sns"
      ]
    },
    {
      "cell_type": "code",
      "execution_count": null,
      "metadata": {
        "id": "RgX14fsbNznh"
      },
      "outputs": [],
      "source": [
        "# load data\n",
        "data_titanic = pd.read_csv(\"titanic.csv\", index_col=\"PassengerId\")"
      ]
    },
    {
      "cell_type": "code",
      "execution_count": null,
      "metadata": {
        "id": "7FGKQoWtNznh"
      },
      "outputs": [],
      "source": [
        "def extract_features(data):\n",
        "    \"\"\"Extract features from existing variables\"\"\"\n",
        "\n",
        "    data_extract = data.copy()\n",
        "\n",
        "    # name\n",
        "    name_only = data_extract[\"Name\"].str.replace(r\"\\(.*\\)\", \"\", regex=True)\n",
        "    first_name = name_only.str.split(\", \", expand=True).iloc[:,1]\n",
        "    title = first_name.str.split(\".\", expand=True).iloc[:,0]\n",
        "    data_extract[\"Title\"] = title\n",
        "\n",
        "    # ticket\n",
        "\n",
        "    # ...\n",
        "\n",
        "    return data_extract\n",
        "\n",
        "data_extract = extract_features(data_titanic)"
      ]
    },
    {
      "cell_type": "code",
      "execution_count": null,
      "metadata": {
        "id": "blRQz6XkNznh"
      },
      "outputs": [],
      "source": [
        "def preprocess(data):\n",
        "    \"\"\"Convert features into numeric variables readable by our models.\"\"\"\n",
        "\n",
        "    data_preprocessed = data.copy()\n",
        "\n",
        "    # Sex\n",
        "\n",
        "    data_preprocessed = pd.get_dummies(data_preprocessed, columns=[\"Sex\"], drop_first=True)\n",
        "\n",
        "    # Cabin\n",
        "\n",
        "    data_preprocessed.drop(columns=\"Cabin\", inplace=True)\n",
        "\n",
        "    # Embarked\n",
        "\n",
        "    data_preprocessed = pd.get_dummies(data_preprocessed, columns=[\"Embarked\"], dummy_na=True)\n",
        "\n",
        "    # Title\n",
        "    title = data_preprocessed[\"Title\"]\n",
        "    title_counts = title.value_counts()\n",
        "    higher_titles = title_counts[title_counts < 50]\n",
        "    title_groups = [\"higher\" if t in higher_titles else t for t in title]\n",
        "    data_preprocessed[\"Title\"] = title_groups\n",
        "    data_preprocessed = pd.get_dummies(data_preprocessed, columns=[\"Title\"])\n",
        "\n",
        "    # drop the rest\n",
        "    data_preprocessed.drop(columns=[\"Name\", \"Ticket\"], inplace=True)\n",
        "\n",
        "    return data_preprocessed\n",
        "\n",
        "data_preprocessed = preprocess(data_extract)"
      ]
    },
    {
      "cell_type": "code",
      "execution_count": null,
      "metadata": {
        "id": "PVR35rqnNzni"
      },
      "outputs": [],
      "source": [
        "\n",
        "# before inspecting the data, selecting and building models, etc.\n",
        "# FIRST split data into train and test data (we set the test data size to 30%)\n",
        "\n",
        "X = data_preprocessed.drop(columns=\"Survived\")\n",
        "y = data_preprocessed[\"Survived\"]\n",
        "\n",
        "X_train, X_test, y_train, y_test = train_test_split(X, y, test_size=0.3, stratify=y)"
      ]
    },
    {
      "cell_type": "code",
      "execution_count": null,
      "metadata": {
        "id": "MrqGr53BNzni"
      },
      "outputs": [],
      "source": [
        "imputer = SimpleImputer(strategy=\"mean\")\n",
        "scaler = StandardScaler()\n",
        "preprocessing_pipeline = make_pipeline(scaler, imputer)\n",
        "\n",
        "\n",
        "X_train_example = X_train.copy()\n",
        "\n",
        "# drop features here\n",
        "# ...\n",
        "\n",
        "X_train_processed = preprocessing_pipeline.fit_transform(X_train_example)\n",
        "\n",
        "# change `X_train_processed` for example here\n",
        "# ...\n",
        "\n",
        "\n",
        "# set model\n",
        "model = LogisticRegression()\n",
        "\n",
        "# fit for coefficient extraction\n",
        "model.fit(X_train_processed, y_train)\n",
        "feature_weights = model.coef_.flatten()"
      ]
    },
    {
      "cell_type": "code",
      "execution_count": null,
      "metadata": {
        "id": "Hvph5mYgNzni",
        "outputId": "cd33d3b2-33ce-441c-aa11-db51daddd959"
      },
      "outputs": [
        {
          "data": {
            "text/plain": [
              "''"
            ]
          },
          "execution_count": 52,
          "metadata": {},
          "output_type": "execute_result"
        },
        {
          "data": {
            "image/png": "[encoded data removed]",
            "text/plain": [
              "<Figure size 1200x600 with 1 Axes>"
            ]
          },
          "metadata": {},
          "output_type": "display_data"
        }
      ],
      "source": [
        "# plot feature importances\n",
        "fig, ax = plt.subplots(1, 1, figsize=(6 * 2, 6), sharey=True)\n",
        "sns.barplot(x=X_train_example.columns, y=feature_weights, ax=ax)\n",
        "ax.set_xticklabels(ax.get_xticklabels(), rotation=270)"
      ]
    },
    {
      "cell_type": "code",
      "execution_count": null,
      "metadata": {
        "id": "U6WgGjtYNzni"
      },
      "outputs": [],
      "source": []
    }
  ],
  "metadata": {
    "interpreter": {
      "hash": "1049190e883849ee6b30e36ad21deeaf7669fd35019ab39c05d9cb5e110dff66"
    },
    "kernelspec": {
      "display_name": "Python 3 (ipykernel)",
      "language": "python",
      "name": "python3"
    },
    "language_info": {
      "codemirror_mode": {
        "name": "ipython",
        "version": 3
      },
      "file_extension": ".py",
      "mimetype": "text/x-python",
      "name": "python",
      "nbconvert_exporter": "python",
      "pygments_lexer": "ipython3",
      "version": "3.10.10"
    },
    "colab": {
      "provenance": []
    }
  },
  "nbformat": 4,
  "nbformat_minor": 0
}