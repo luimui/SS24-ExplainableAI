{
 "cells": [
  {
   "cell_type": "markdown",
   "metadata": {},
   "source": [
    "# Exercise 0: Introduction to Python"
   ]
  },
  {
   "cell_type": "markdown",
   "metadata": {},
   "source": [
    "## Use Python as a calculator to compute 256 times 256"
   ]
  },
  {
   "cell_type": "code",
   "execution_count": null,
   "metadata": {},
   "outputs": [],
   "source": [
    "256 * 256"
   ]
  },
  {
   "cell_type": "markdown",
   "metadata": {},
   "source": [
    "### Put the strings \"Hello\" and \"World!\" in two variables. Concatenate both Strings and print them"
   ]
  },
  {
   "cell_type": "code",
   "execution_count": null,
   "metadata": {
    "scrolled": true
   },
   "outputs": [],
   "source": [
    "hello = \"Hello\"\n",
    "world = \"World!\"\n",
    "print(hello + world)\n",
    "print(hello + \" \" + world)"
   ]
  },
  {
   "cell_type": "markdown",
   "metadata": {},
   "source": [
    "### Create a list that contains the 4 strings \"alpha\", \"beta\", \"gamma\", and \"delta\". Add \"epsilon\" to the end of this list"
   ]
  },
  {
   "cell_type": "code",
   "execution_count": null,
   "metadata": {},
   "outputs": [],
   "source": [
    "l = [\"alpha\", \"beta\", \"gamma\", \"delta\"]\n",
    "l.append(\"epsilon\")\n",
    "l"
   ]
  },
  {
   "cell_type": "code",
   "execution_count": null,
   "metadata": {},
   "outputs": [],
   "source": [
    "# appending via overloaded '+' operator\n",
    "l = l + [\"omega\"]\n",
    "l"
   ]
  },
  {
   "cell_type": "markdown",
   "metadata": {},
   "source": [
    "### Create a sublist with the first three elements of this list\n"
   ]
  },
  {
   "cell_type": "code",
   "execution_count": null,
   "metadata": {},
   "outputs": [],
   "source": [
    "# note: index on the left side of column is index After the final element we want to include\n",
    "l2 = l[:3] # -> this returns elements at indices 0,1,2\n",
    "l2"
   ]
  },
  {
   "cell_type": "markdown",
   "metadata": {},
   "source": [
    "### Write a Python program to construct the following pattern using for loops"
   ]
  },
  {
   "cell_type": "raw",
   "metadata": {},
   "source": [
    "* \n",
    "* * \n",
    "* * * \n",
    "* * * * \n",
    "* * * * * \n",
    "* * * * \n",
    "* * * \n",
    "* * \n",
    "*"
   ]
  },
  {
   "cell_type": "code",
   "execution_count": null,
   "metadata": {},
   "outputs": [],
   "source": [
    "ll = list (range(1,5)) + list (range (5,0,-1))\n",
    "ll"
   ]
  },
  {
   "cell_type": "code",
   "execution_count": null,
   "metadata": {},
   "outputs": [],
   "source": [
    "# again, number at second argument is not included\n",
    "print(list(range(1,5)))\n",
    "print(list (range(5,0,-1))) #3rd argument is step size"
   ]
  },
  {
   "cell_type": "code",
   "execution_count": null,
   "metadata": {},
   "outputs": [],
   "source": [
    "# for loop syntax, indentation indicates what is inside of the loop\n",
    "for i in ll:\n",
    "    print (\"*\" * i)"
   ]
  },
  {
   "cell_type": "markdown",
   "metadata": {},
   "source": [
    "### Write a function that takes 3 input parameters and returns product of these values"
   ]
  },
  {
   "cell_type": "code",
   "execution_count": null,
   "metadata": {},
   "outputs": [],
   "source": [
    "# * operator actually allows arbitrary number of arguments\n",
    "# function definition, again, structure determined via indentation\n",
    "def my_product (*x):\n",
    "    result = 1\n",
    "    for elem in x:\n",
    "        result = result * elem\n",
    "    return result"
   ]
  },
  {
   "cell_type": "code",
   "execution_count": null,
   "metadata": {},
   "outputs": [],
   "source": [
    "my_product(2,3,4,5,6)"
   ]
  },
  {
   "cell_type": "markdown",
   "metadata": {},
   "source": [
    "### Write a Python function that takes an int as a parameter and checks if the number is prime or not."
   ]
  },
  {
   "cell_type": "code",
   "execution_count": null,
   "metadata": {},
   "outputs": [],
   "source": [
    "def is_prime (x):\n",
    "    for n in range (2, x // 2 + 1):\n",
    "        if x % n == 0: # if-clause, uses modulo operator\n",
    "            return False\n",
    "    return True\n",
    "\n",
    "print (is_prime (12))\n",
    "print (is_prime (13))\n",
    "print (is_prime (23))\n",
    "print (is_prime (21))"
   ]
  },
  {
   "cell_type": "markdown",
   "metadata": {},
   "source": [
    "### Use your function to create a list that contains all primes from 2 to 100"
   ]
  },
  {
   "cell_type": "code",
   "execution_count": null,
   "metadata": {},
   "outputs": [],
   "source": [
    "# solve via another helper function\n",
    "def primes_up_to (n):\n",
    "    result = []\n",
    "    for x in range (2, n+1):\n",
    "        if is_prime(x):\n",
    "            result.append(x)\n",
    "    return result\n",
    "\n",
    "primes_up_to(100)"
   ]
  },
  {
   "cell_type": "markdown",
   "metadata": {},
   "source": [
    "### Write a function that simulates dice rolls (6-sided dices)\n",
    "- Write a function that has the number of dice rolls as the input parameter\n",
    "- The output is a dictionary with the counts how often each result of a roll (1-6) occurred\n",
    "- You can use the randomint() function from the random package"
   ]
  },
  {
   "cell_type": "code",
   "execution_count": null,
   "metadata": {},
   "outputs": [],
   "source": [
    "import random # how to import installed libraries\n",
    "\n",
    "def roll (n):\n",
    "    result = {1:0, 2:0, 3:0, 4:0, 5:0, 6:0} # manual definition of a dictionary -> listing of key:value pairs\n",
    "    for i in range (n):\n",
    "        r = random.randint(1,6)\n",
    "        result [r] = result[r] + 1 #access to value via key -> hashmap principle\n",
    "    return result\n",
    "\n",
    "roll (60000)"
   ]
  },
  {
   "cell_type": "markdown",
   "metadata": {},
   "source": [
    "### Combine two dictionaries by adding values for common keys.\n",
    "d1 = {'a': 100, 'b': 200, 'c':300}\n",
    "\n",
    "d2 = {'a': 300, 'b': 200, 'd':400}\n",
    "\n",
    "Sample output: {'a': 400, 'b': 400, 'd': 400, 'c': 300}"
   ]
  },
  {
   "cell_type": "code",
   "execution_count": null,
   "metadata": {},
   "outputs": [],
   "source": [
    "d1 = {'a': 100, 'b': 200, 'c':300}\n",
    "d2 = {'a': 300, 'b': 200, 'd':400}"
   ]
  },
  {
   "cell_type": "code",
   "execution_count": null,
   "metadata": {},
   "outputs": [],
   "source": [
    "d = {}\n",
    "\n",
    "# iteration over key-value pairs via items()\n",
    "for k,v in d1.items():\n",
    "    d[k] = v\n",
    "for k,v in d2.items():\n",
    "    if k in d:\n",
    "        d [k] = d[k] + v\n",
    "    else:\n",
    "        d[k] = v\n",
    "d"
   ]
  },
  {
   "cell_type": "markdown",
   "metadata": {},
   "source": [
    "### Create a list of lists. Then, write a list comprehension that creates a list with the lengths of each (sub)list in the primary list"
   ]
  },
  {
   "cell_type": "code",
   "execution_count": null,
   "metadata": {},
   "outputs": [],
   "source": [
    "test_l = [[1,2,3],[\"a\", \"b\"], [123.5, \"a\", 44]]\n",
    "[len(t) for t in test_l] # loop in list comprehension"
   ]
  },
  {
   "cell_type": "code",
   "execution_count": null,
   "metadata": {},
   "outputs": [],
   "source": [
    "test_l + [1,2,3]"
   ]
  },
  {
   "cell_type": "markdown",
   "metadata": {},
   "source": [
    "### Exceptions\n",
    "\n",
    "Write your own function *my_division* that gets two variables a and b and returns a divided by b. Catch the ZeroDivisionError that occurs if b equals 0 and return 1 in this case.\n",
    "\n",
    "How could the same behavior be achieved without catching an exception?"
   ]
  },
  {
   "cell_type": "code",
   "execution_count": null,
   "metadata": {},
   "outputs": [],
   "source": [
    "def my_division (a, b):\n",
    "    try: \n",
    "        return a / b\n",
    "    except ZeroDivisionError: # call specific error, try-except also works without specifying error\n",
    "        return 1\n",
    "\n",
    "print (my_division (20,5))\n",
    "print (my_division (20,0))"
   ]
  },
  {
   "cell_type": "code",
   "execution_count": null,
   "metadata": {},
   "outputs": [],
   "source": [
    "# same function without catching exception\n",
    "def my_division2 (a, b):\n",
    "    if b==0: \n",
    "        return 1\n",
    "    else:\n",
    "        return a/b\n",
    "\n",
    "print (my_division2 (20,5))\n",
    "print (my_division2 (20,0))"
   ]
  },
  {
   "cell_type": "markdown",
   "metadata": {},
   "source": [
    "### File handling\n",
    "\n",
    "Write a function that gets a letter and the path to a (text-)file on your harddrive as input parameters and computes a list as its output. The list should contain one number for each line. The i-th line shows, how often the given letter occurs in line number i in the text file. Test your function on \"ftest.txt\", which was provided in this exercise!"
   ]
  },
  {
   "cell_type": "code",
   "execution_count": 35,
   "metadata": {},
   "outputs": [],
   "source": [
    "# # this code is for generating ftest.txt\n",
    "# import string\n",
    "# random.seed(1)\n",
    "# def generate_random_line():\n",
    "#     line_length = random.randint(30, 100)\n",
    "#     line = ''.join(random.choices(string.ascii_letters, k=line_length))\n",
    "#     return line\n",
    "\n",
    "# def generate_text_file(file_path, num_lines):\n",
    "#     with open(file_path, 'w') as file:\n",
    "#         for _ in range(num_lines):\n",
    "#             line = generate_random_line()\n",
    "#             file.write(line + '\\n')\n",
    "# generate_text_file(\"./ftest.txt\",100)"
   ]
  },
  {
   "cell_type": "code",
   "execution_count": null,
   "metadata": {},
   "outputs": [],
   "source": [
    "def count_letter (letter, filename):\n",
    "    result = []\n",
    "    # with -- as to create alias\n",
    "    # the context manager ('with') ensures the files get closed if an exception occurs\n",
    "    with open(filename, \"r\") as f: #r ==> open for reading; \n",
    "        for line in f: # overloaded 'in' iterates over rows in file\n",
    "            result.append(line.count(letter)) #built-in count() function for strings\n",
    "    return result"
   ]
  },
  {
   "cell_type": "code",
   "execution_count": null,
   "metadata": {},
   "outputs": [],
   "source": [
    "count_letter('a',\"ftest.txt\")"
   ]
  },
  {
   "cell_type": "markdown",
   "metadata": {},
   "source": [
    "### Change please!\n",
    "In our currency, we have coins with certain values, e.g., (200,100,50,20,10,5,2,1) cents. Write a function that computes the different options to pay a certain amount X with the given set of coins."
   ]
  },
  {
   "cell_type": "raw",
   "metadata": {},
   "source": [
    "Example:\n",
    "pay_options (10, [200,100,50,20,10,5,2,1])\n",
    "[[10],\n",
    " [5, 5],\n",
    " [5, 2, 2, 1],\n",
    " [5, 2, 1, 1, 1],\n",
    " [5, 1, 1, 1, 1, 1],\n",
    " [2, 2, 2, 2, 2],\n",
    " [2, 2, 2, 2, 1, 1],\n",
    " [2, 2, 2, 1, 1, 1, 1],\n",
    " [2, 2, 1, 1, 1, 1, 1, 1],\n",
    " [2, 1, 1, 1, 1, 1, 1, 1, 1],\n",
    " [1, 1, 1, 1, 1, 1, 1, 1, 1, 1]]"
   ]
  },
  {
   "cell_type": "code",
   "execution_count": null,
   "metadata": {},
   "outputs": [],
   "source": [
    "# slow, but simple solution using recursion:\n",
    "def pay_options(amount, list_of_coin_values, list_of_used_coins=None):\n",
    "    # print (amount, list_of_coin_values, list_of_used_coins)\n",
    "    if list_of_used_coins is None:  # Avoid mutable default arguments!\n",
    "        list_of_used_coins = []\n",
    "    result = []\n",
    "    for i, v in enumerate(list_of_coin_values):\n",
    "        if amount > v:\n",
    "            new_used_coins = list_of_used_coins.copy()\n",
    "            new_used_coins.append(v)\n",
    "            result.extend(\n",
    "                pay_options(amount - v, list_of_coin_values[i:], new_used_coins)\n",
    "            )\n",
    "        elif amount == v:\n",
    "            new_option = list_of_used_coins.copy()\n",
    "            new_option.append(v)\n",
    "            result.append(new_option)\n",
    "    return result\n",
    "\n"
   ]
  },
  {
   "cell_type": "code",
   "execution_count": null,
   "metadata": {},
   "outputs": [],
   "source": [
    "pay_options (10, [200,100,50,20,10,5,2,1])"
   ]
  },
  {
   "cell_type": "markdown",
   "metadata": {},
   "source": [
    "## Numpy"
   ]
  },
  {
   "cell_type": "markdown",
   "metadata": {},
   "source": [
    "### Create a numpy arrays with 20 rows and 10 columns, all values set to zero\n",
    "\n",
    "In this last set of tasks, you will have to work with numpy, the the fundamental package for scientific computing with Python. Make sure to execute the cell below to import the package, we will usually use the abbreviation np for numpy to obtain shorter code."
   ]
  },
  {
   "cell_type": "code",
   "execution_count": null,
   "metadata": {},
   "outputs": [],
   "source": [
    "import numpy as np "
   ]
  },
  {
   "cell_type": "code",
   "execution_count": null,
   "metadata": {},
   "outputs": [],
   "source": [
    "x = np.zeros((20,10))\n",
    "x"
   ]
  },
  {
   "cell_type": "code",
   "execution_count": null,
   "metadata": {},
   "outputs": [],
   "source": [
    "# direct specification of a 2x2 array/matrix\n",
    "x = np.array(\n",
    "    [[20,10],\n",
    "     [ 2, 1]])"
   ]
  },
  {
   "cell_type": "code",
   "execution_count": null,
   "metadata": {},
   "outputs": [],
   "source": [
    "# acessing elements in matrix\n",
    "x[0,1]"
   ]
  },
  {
   "cell_type": "markdown",
   "metadata": {},
   "source": [
    "### Create an array with the same shape containing all natural numbers 0-199"
   ]
  },
  {
   "cell_type": "code",
   "execution_count": null,
   "metadata": {},
   "outputs": [],
   "source": [
    "# np.arange similar to range\n",
    "np.arange(200).reshape((20,10))"
   ]
  },
  {
   "cell_type": "markdown",
   "metadata": {},
   "source": [
    "### Create a 4-dimensional array with 16 elements and set all values to a random integer smaller than 5\n",
    "\n",
    "https://numpy.org/doc/stable/reference/random/index.html#random-quick-start"
   ]
  },
  {
   "cell_type": "code",
   "execution_count": null,
   "metadata": {},
   "outputs": [],
   "source": [
    "rng = np.random.default_rng()\n",
    "x = rng.integers(5, size=(2,2,2,2))\n",
    "x"
   ]
  },
  {
   "cell_type": "markdown",
   "metadata": {},
   "source": [
    "### What is the mean of all values contained in this array?"
   ]
  },
  {
   "cell_type": "code",
   "execution_count": null,
   "metadata": {},
   "outputs": [],
   "source": [
    "x.mean()"
   ]
  },
  {
   "cell_type": "markdown",
   "metadata": {},
   "source": [
    "### Select a sub-array containing exactly two elements of that array"
   ]
  },
  {
   "cell_type": "code",
   "execution_count": null,
   "metadata": {},
   "outputs": [],
   "source": [
    "x[1,1,1,:]"
   ]
  },
  {
   "cell_type": "markdown",
   "metadata": {},
   "source": [
    "### Given a numpy array, return a new numpy array the contains only the elements that are greater than 100"
   ]
  },
  {
   "cell_type": "code",
   "execution_count": null,
   "metadata": {},
   "outputs": [],
   "source": [
    "x = np.array([120,-5,150,250,300,50,112])\n",
    "x[x > 100]"
   ]
  },
  {
   "cell_type": "code",
   "execution_count": null,
   "metadata": {},
   "outputs": [],
   "source": [
    "# works via indexing with array of boolean values\n",
    "x > 100"
   ]
  }
 ],
 "metadata": {
  "kernelspec": {
   "display_name": "Python 3 (ipykernel)",
   "language": "python",
   "name": "python3"
  },
  "language_info": {
   "codemirror_mode": {
    "name": "ipython",
    "version": 3
   },
   "file_extension": ".py",
   "mimetype": "text/x-python",
   "name": "python",
   "nbconvert_exporter": "python",
   "pygments_lexer": "ipython3",
   "version": "3.12.1"
  }
 },
 "nbformat": 4,
 "nbformat_minor": 4
}
