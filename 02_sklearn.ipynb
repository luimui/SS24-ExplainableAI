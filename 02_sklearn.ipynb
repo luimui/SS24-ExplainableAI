{
 "cells": [
  {
   "cell_type": "markdown",
   "metadata": {},
   "source": [
    "# Exercise 02 - Introduction to Scikit-Learn\n",
    "\n",
    "After completing this notebook, you should be able to:\n",
    "* train a classifier on a given dataset using scikit-learn\n",
    "* navigate the scikit-learn documentation\n",
    "* evaluate a model using scikit-learn\n",
    "\n",
    "Ressources used: \n",
    "* https://scikit-learn.org/stable/tutorial/statistical_inference/supervised_learning.html\n",
    "* https://scikit-learn.org/stable/auto_examples/classification/plot_digits_classification.html\n",
    "* https://scikit-learn.org/stable/tutorial/statistical_inference/model_selection.html\n",
    "* https://scikit-learn.org/stable/tutorial/statistical_inference/putting_together.html"
   ]
  },
  {
   "cell_type": "markdown",
   "metadata": {},
   "source": [
    "## Training a Simple Classifier\n",
    "\n",
    "We will use the 'digits' dataset consisting of 8x8 images of handwritten digits."
   ]
  },
  {
   "cell_type": "code",
   "execution_count": null,
   "metadata": {},
   "outputs": [],
   "source": [
    "import numpy as np\n",
    "import matplotlib.pyplot as plt\n",
    "from sklearn import datasets\n",
    "\n",
    "\n",
    "# TODO: load the digits dataset (look at the documentation to see how to do it)\n",
    "\n",
    "# TODO: print out the different classes\n",
    "\n",
    "# TODO: visually inspect the first 4 instances (use the matplotlib library) and their labels\n"
   ]
  },
  {
   "cell_type": "markdown",
   "metadata": {},
   "source": [
    "Our goal is now to train a logistic regression model to predict the class of an instance of the digits dataset.\n",
    "Before we train the model, we have to split the data, since the evaluation would otherwise be not representative of future performance."
   ]
  },
  {
   "cell_type": "code",
   "execution_count": null,
   "metadata": {},
   "outputs": [],
   "source": [
    "from sklearn import linear_model\n",
    "from sklearn import model_selection\n",
    "from sklearn import preprocessing\n",
    "\n",
    "# TODO: look in the documentation how to split the data into training and test data. \n",
    "# Then split the data. Use 20% for testing. Make sure that the split is reproducible.\n",
    "\n",
    "# TODO: use the StandardScaler to scale the inputs.\n",
    "# Q: Which inputs should it use?\n",
    "\n",
    "# TODO: define a logistic regression model and train it using the training data. \n",
    "# Afterwards, print the accuracy of the model on the held-out data.\n",
    "# Again, keep reproducibility in mind.\n"
   ]
  },
  {
   "cell_type": "markdown",
   "metadata": {},
   "source": [
    "If everything went well, the accuracy should be >95%. \n",
    "Use the `classification_report` and the `ConfusionMatrixDisplay` from sklearn.metrics to get more insights into the performance.\n",
    "\n",
    "Does anything catch your eye?"
   ]
  },
  {
   "cell_type": "code",
   "execution_count": null,
   "metadata": {},
   "outputs": [],
   "source": [
    "from sklearn import metrics\n",
    "\n",
    "# TODO: print a detailed model evaluation\n"
   ]
  },
  {
   "cell_type": "markdown",
   "metadata": {},
   "source": [
    "## Switching the Model\n",
    "\n",
    "Now, use an SVM to classify the digits.\n",
    "Since all models share the same interface, this extremely easy in sklearn. "
   ]
  },
  {
   "cell_type": "code",
   "execution_count": null,
   "metadata": {},
   "outputs": [],
   "source": [
    "# TODO: instantiate and train an SVM (with linear kernel) on the previous task\n",
    "# How does the performance compare to the logistic regression model?\n",
    "from sklearn import svm\n"
   ]
  },
  {
   "cell_type": "markdown",
   "metadata": {},
   "source": [
    "## Cross-Validation\n",
    "\n",
    "So far, we have always used the same train-test split.\n",
    "But what if this split is easier for the SVM just by random chance.\n",
    "Now, we use cross validation to get a better idea about the performance."
   ]
  },
  {
   "cell_type": "code",
   "execution_count": null,
   "metadata": {},
   "outputs": [],
   "source": [
    "# TODO: from sklearn.model_selection, use KFold to implement 3-fold cross validation.\n",
    "# What do we have to do with respect to feature normalization?\n",
    "# Estimate the performance of the svm using cross-validation.\n"
   ]
  },
  {
   "cell_type": "markdown",
   "metadata": {},
   "source": [
    "## Pipelines and Model Selection\n",
    "\n",
    "In the previous implementation of k-fold crossvalidation, you had to fit the scaler in the loop for every fold to avoid data leakage.\n",
    "If we had more preprocessing steps, this would significantly bloat our code. \n",
    "And writing the loop ourselves is not very nice in the first place.\n",
    "\n",
    "Sklearn offers a way to abstract pre- (and post) processing steps into a pipeline.\n",
    "Then it is possible with some helper functions to abstract most of the code we wrote away.\n",
    "\n",
    "Here, we will use it to easily do a hyperparameter search."
   ]
  },
  {
   "cell_type": "code",
   "execution_count": null,
   "metadata": {},
   "outputs": [],
   "source": [
    "from sklearn.pipeline import Pipeline\n",
    "from sklearn.model_selection import RandomizedSearchCV\n",
    "\n",
    "# TODO: write a pipeline with two steps: \"scaling\", and \"model\" (use a SVM again)\n",
    "\n",
    "\n",
    "# TODO: Conduct a randomized search for optimal hyperparameters of the model.\n",
    "# 1) Define the search space for kernel and regularization C\n",
    "# 2) Run the search and retrieve the best parameters using the pipeline of the previous step\n"
   ]
  },
  {
   "cell_type": "markdown",
   "metadata": {},
   "source": [
    "## Closing Question\n",
    "\n",
    "What is a problem with our evaluation setup with respect to the data? \n",
    "Can we trust our CV results to hold on new data?"
   ]
  }
 ],
 "metadata": {
  "interpreter": {
   "hash": "1049190e883849ee6b30e36ad21deeaf7669fd35019ab39c05d9cb5e110dff66"
  },
  "kernelspec": {
   "display_name": "Python 3 (ipykernel)",
   "language": "python",
   "name": "python3"
  },
  "language_info": {
   "codemirror_mode": {
    "name": "ipython",
    "version": 3
   },
   "file_extension": ".py",
   "mimetype": "text/x-python",
   "name": "python",
   "nbconvert_exporter": "python",
   "pygments_lexer": "ipython3",
   "version": "3.12.1"
  }
 },
 "nbformat": 4,
 "nbformat_minor": 4
}
